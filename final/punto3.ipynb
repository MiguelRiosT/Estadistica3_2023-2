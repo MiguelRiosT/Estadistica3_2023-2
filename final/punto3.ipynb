{
 "cells": [
  {
   "cell_type": "markdown",
   "id": "d755f588-6d9c-49e2-bf2f-b1a9da485239",
   "metadata": {},
   "source": [
    "# Punto 3 - Final - Miguel Rios Tangarife "
   ]
  },
  {
   "cell_type": "markdown",
   "id": "49b14439-4c0a-45bc-b5e5-d8fe37a998da",
   "metadata": {},
   "source": [
    "## Utilizar la matriz tf-idf y crear un algoritmo gradiente descendiente para clasificar los textos. Código debe ser genérico, es decir debe funcionar para textos con mas palabras\n"
   ]
  },
  {
   "cell_type": "markdown",
   "id": "d8e7196b-7b8c-4532-8a5a-4e447b07d56d",
   "metadata": {},
   "source": [
    "error =  y *log (1/(1+ e(-g)) + (1-y)*log (1 - 1/(1+ e(-g)) donde g = b1 palabra1+ b2 tf-idf(palabra2)+b3 tf-idf(palabra3) ….+ bn tf-idf(palabran)+b0."
   ]
  },
  {
   "cell_type": "code",
   "execution_count": 5,
   "id": "cd278eeb-3ae6-467b-ac61-4a39a196df7b",
   "metadata": {},
   "outputs": [],
   "source": [
    "import pandas as pd\n",
    "import matplotlib.pyplot as plt\n",
    "import numpy as np"
   ]
  },
  {
   "cell_type": "code",
   "execution_count": 6,
   "id": "f110eadc-fa44-4300-8ccb-9f2f5fa451bb",
   "metadata": {},
   "outputs": [],
   "source": [
    "encoding = 'latin1'\n",
    "ruta_archivo_csv = 'data/datoss.csv'\n",
    "datosFinal = pd.read_csv(ruta_archivo_csv, encoding=encoding)\n",
    "\n",
    "# Pasamos todos los datos a minúsculas\n",
    "datosFinal['Texto'] = datosFinal['Texto'].str.lower()\n",
    "\n",
    "#Definimos stop_words\n",
    "stop_words = [\n",
    "    'de', 'la', 'que', 'el', 'en', 'y', 'a', 'los', 'del', 'se',\n",
    "    'las', 'por', 'un', 'para', 'con', 'no', 'una', 'su', 'al', 'es',\n",
    "    'lo', 'como', 'más', 'pero', 'sus', 'le', 'ya', 'o', 'fue', 'ha'\n",
    "]\n",
    "\n",
    "# Filtrar palabras no deseadas\n",
    "datosFinal['Texto'] = datosFinal['Texto'].apply(lambda x: ' '.join([word for word in x.split() if word not in (stop_words)]))\n",
    "\n",
    "# Convertir todo el texto a minúsculas después de la limpieza\n",
    "datosFinalClear = datosFinal.copy()\n",
    "datosFinalClear['Texto'] = datosFinalClear['Texto'].str.lower()"
   ]
  },
  {
   "cell_type": "code",
   "execution_count": 7,
   "id": "fe8ff19a-de50-4606-ad77-61721e1e55e7",
   "metadata": {},
   "outputs": [],
   "source": [
    "vocabulario = set(' '.join(datosFinalClear['Texto']).split())\n",
    "\n",
    "\n",
    "tf_matrix = np.zeros((len(datosFinalClear), len(vocabulario)))\n",
    "for i, doc in enumerate(datosFinalClear['Texto']):\n",
    "    for j, word in enumerate(vocabulario):\n",
    "        tf_matrix[i, j] = doc.split().count(word)\n",
    "idf_vector = np.log(len(datosFinalClear) / np.sum(tf_matrix > 0, axis=0))\n",
    "tfidf_matrix = tf_matrix * idf_vector\n",
    "\n",
    "tfidf_df = pd.DataFrame(tfidf_matrix, columns=list(vocabulario))"
   ]
  },
  {
   "cell_type": "code",
   "execution_count": 16,
   "id": "02b6f320-8756-4e68-8a02-131a3e4e6201",
   "metadata": {},
   "outputs": [
    {
     "name": "stdout",
     "output_type": "stream",
     "text": [
      "Iteracion 0, Loss: 0.8126192204036744\n",
      "b1: 0.38015391502140994, b2: 0.28115425687979856, b3: -0.238950729266818, b4: 0.2450703816987542\n",
      "\n",
      "Iteracion 1, Loss: 0.080062676814599\n",
      "b1: 0.4812937199252677, b2: 0.3601150843598484, b3: -0.31101090555601785, b4: 0.14615305901827413\n",
      "\n",
      "Iteracion 2, Loss: 0.032059635745666046\n",
      "b1: 0.558037801596017, b2: 0.39431467437451007, b3: -0.35578437353106634, b4: 0.11750678527805022\n",
      "\n",
      "Iteracion 3, Loss: 0.021679935377612654\n",
      "b1: 0.6162398458649393, b2: 0.41739975787467654, b3: -0.3888964797833553, b4: 0.10325009323431877\n",
      "\n",
      "Iteracion 4, Loss: 0.01680267234678754\n",
      "b1: 0.6625482974403509, b2: 0.4349966243297303, b3: -0.41529601617360756, b4: 0.09426548524971487\n",
      "\n",
      "Iteracion 5, Loss: 0.013945553654500373\n",
      "b1: 0.7008924876661707, b2: 0.4492808196290853, b3: -0.4372872218908391, b4: 0.08792111471745107\n",
      "\n",
      "Iteracion 6, Loss: 0.012059459698902026\n",
      "b1: 0.7335759515494734, b2: 0.4613373314875229, b3: -0.45614950058759246, b4: 0.08312823799465249\n",
      "\n",
      "Iteracion 7, Loss: 0.010714080495681412\n",
      "b1: 0.762040056927946, b2: 0.4717889129783522, b3: -0.47267142040877475, b4: 0.07934072954410916\n",
      "\n",
      "Iteracion 8, Loss: 0.009700038505348191\n",
      "b1: 0.7872414942298562, b2: 0.48102717570913256, b3: -0.48737482907095314, b4: 0.07624941534014762\n",
      "\n",
      "Iteracion 9, Loss: 0.008903437189420571\n",
      "b1: 0.8098463193134352, b2: 0.48931483557053956, b3: -0.5006235448023646, b4: 0.07366401643783071\n",
      "\n",
      "Iteracion 10, Loss: 0.008257187609897987\n",
      "b1: 0.830336403576654, b2: 0.49683688894809197, b3: -0.5126815831386707, b4: 0.0714600106866961\n",
      "\n",
      "Iteracion 11, Loss: 0.007719318306945349\n",
      "b1: 0.8490714327010097, b2: 0.5037286191668201, b3: -0.5237467385690135, b4: 0.0695519711507904\n",
      "\n",
      "Iteracion 12, Loss: 0.007262290591095959\n",
      "b1: 0.8663269075419657, b2: 0.5100920019026574, b3: -0.5339710962901584, b4: 0.06787905407263786\n",
      "\n",
      "Iteracion 13, Loss: 0.0068673178682743235\n",
      "b1: 0.8823184609570943, b2: 0.5160058455669727, b3: -0.5434741520599613, b4: 0.06639658170372374\n",
      "\n",
      "Iteracion 14, Loss: 0.006521158024456948\n",
      "b1: 0.8972179959574296, b2: 0.5215323386926661, b3: -0.5523515287267512, b4: 0.0650709043286473\n",
      "\n"
     ]
    }
   ],
   "source": [
    "X = np.column_stack((np.ones(len(datosFinalClear)), tfidf_matrix))\n",
    "y = datosFinal['Sentimiento'].map({'Negativo': 0, 'Positivo': 1}).values\n",
    "\n",
    "# Inicializamos en ceros los parámetros\n",
    "params = np.zeros(X.shape[1])\n",
    "\n",
    "def predict(X, params):\n",
    "    return 1 / (1 + np.exp(-np.dot(X, params)))\n",
    "\n",
    "def loss(y, y_pred):\n",
    "    return -np.mean((y * np.log(y_pred + 1e-15)) + ((1 - y) * np.log(1 - y_pred + 1e-15)))\n",
    "\n",
    "def gradient_descent(X, y, params, learning_rate, epochs, batch_size):\n",
    "    m = len(y)\n",
    "    for epoch in range(epochs):\n",
    "        for batch_start in range(0, m, batch_size):\n",
    "            batch_end = batch_start + batch_size\n",
    "            X_batch = X[batch_start:batch_end]\n",
    "            y_batch = y[batch_start:batch_end]\n",
    "\n",
    "            y_pred = predict(X_batch, params)\n",
    "            error = loss(y_batch, y_pred)\n",
    "\n",
    "            # Calcular los gradientes\n",
    "            gradient_b0 = np.sum(y_pred - y_batch) / batch_size\n",
    "            gradient_b = np.dot(X_batch.T, (y_pred - y_batch)) / batch_size\n",
    "\n",
    "            # Actualizar los parámetros\n",
    "            params -= learning_rate * gradient_b\n",
    "\n",
    "        if epoch % 1 == 0:\n",
    "            print(f'Iteracion {epoch}, Loss: {error}')\n",
    "            print(f'b1: {params[0]}, b2: {params[1]}, b3: {params[2]}, b4: {params[3]}')\n",
    "            print('')\n",
    "\n",
    "    return params\n",
    "\n",
    "learning_rate = 0.5\n",
    "epochs = 15\n",
    "batch_size = 3\n",
    "\n",
    "trained_params = gradient_descent(X, y, params, learning_rate, epochs, batch_size)"
   ]
  },
  {
   "cell_type": "markdown",
   "id": "58c0d46b-2753-4fd7-a1f7-909d6049a376",
   "metadata": {},
   "source": [
    "Observaciones dados los valores de b1,b2,b3 y b4\n",
    "- b1 en un la iteracion 1 tiene un valor de 0.3801, el valor va en aumento en las siguientes iteraciones\n",
    "  se puede ver que b1 tiende más a valores positivos con cada iteración.\n",
    "  \n",
    "- Existe una tendencia en los valores de b2,b3 y b4 a aumentar respectivamente "
   ]
  }
 ],
 "metadata": {
  "kernelspec": {
   "display_name": "Python 3 (ipykernel)",
   "language": "python",
   "name": "python3"
  },
  "language_info": {
   "codemirror_mode": {
    "name": "ipython",
    "version": 3
   },
   "file_extension": ".py",
   "mimetype": "text/x-python",
   "name": "python",
   "nbconvert_exporter": "python",
   "pygments_lexer": "ipython3",
   "version": "3.11.2"
  }
 },
 "nbformat": 4,
 "nbformat_minor": 5
}
