{
 "cells": [
  {
   "cell_type": "markdown",
   "id": "454d81f4-57ea-4310-a7d6-ff10fb7b3da9",
   "metadata": {},
   "source": [
    "# Punto 1 - Final - Miguel Rios Tangarife "
   ]
  },
  {
   "cell_type": "markdown",
   "id": "692d93e0-cc3a-415b-9552-bd12d7a54e2a",
   "metadata": {},
   "source": [
    "## Crear un gráfico de barras con las 10 palabras más frecuentes"
   ]
  },
  {
   "cell_type": "code",
   "execution_count": 1,
   "id": "649eab03-2d9a-4dec-bf49-f9f30afc2122",
   "metadata": {},
   "outputs": [],
   "source": [
    "import pandas as pd\n",
    "import matplotlib.pyplot as plt\n",
    "import numpy as np"
   ]
  },
  {
   "cell_type": "code",
   "execution_count": 2,
   "id": "22f63552-10a0-4232-a775-5054a585225a",
   "metadata": {},
   "outputs": [],
   "source": [
    "encoding = 'latin1'\n",
    "ruta_archivo_csv = 'data/datoss.csv'\n",
    "datosFinal = pd.read_csv(ruta_archivo_csv, encoding=encoding)"
   ]
  },
  {
   "cell_type": "markdown",
   "id": "f5f55777-7c6d-4f7b-a697-9d8a74bbcb9b",
   "metadata": {},
   "source": [
    "Verificamos que los datos estén correctamente y se lea el archivo csv"
   ]
  },
  {
   "cell_type": "code",
   "execution_count": 3,
   "id": "c532f6f2-71eb-45c7-b1c5-5efa6da96d30",
   "metadata": {},
   "outputs": [
    {
     "data": {
      "text/html": [
       "<div>\n",
       "<style scoped>\n",
       "    .dataframe tbody tr th:only-of-type {\n",
       "        vertical-align: middle;\n",
       "    }\n",
       "\n",
       "    .dataframe tbody tr th {\n",
       "        vertical-align: top;\n",
       "    }\n",
       "\n",
       "    .dataframe thead th {\n",
       "        text-align: right;\n",
       "    }\n",
       "</style>\n",
       "<table border=\"1\" class=\"dataframe\">\n",
       "  <thead>\n",
       "    <tr style=\"text-align: right;\">\n",
       "      <th></th>\n",
       "      <th>Texto</th>\n",
       "      <th>Sentimiento</th>\n",
       "    </tr>\n",
       "  </thead>\n",
       "  <tbody>\n",
       "    <tr>\n",
       "      <th>0</th>\n",
       "      <td>Aprendi regresiones</td>\n",
       "      <td>Positivo</td>\n",
       "    </tr>\n",
       "    <tr>\n",
       "      <th>1</th>\n",
       "      <td>Mucha tarea</td>\n",
       "      <td>Negativo</td>\n",
       "    </tr>\n",
       "    <tr>\n",
       "      <th>2</th>\n",
       "      <td>Aprendi modelos de texto</td>\n",
       "      <td>Positivo</td>\n",
       "    </tr>\n",
       "    <tr>\n",
       "      <th>3</th>\n",
       "      <td>Tareas muy largas</td>\n",
       "      <td>Negativo</td>\n",
       "    </tr>\n",
       "    <tr>\n",
       "      <th>4</th>\n",
       "      <td>Aprendi a utilizar imágenes</td>\n",
       "      <td>Positivo</td>\n",
       "    </tr>\n",
       "    <tr>\n",
       "      <th>5</th>\n",
       "      <td>El profe se demora en entregar las notas</td>\n",
       "      <td>Negativo</td>\n",
       "    </tr>\n",
       "    <tr>\n",
       "      <th>6</th>\n",
       "      <td>Me gusto competir por el mejor modelo</td>\n",
       "      <td>Positivo</td>\n",
       "    </tr>\n",
       "    <tr>\n",
       "      <th>7</th>\n",
       "      <td>Los examenes son largos</td>\n",
       "      <td>Negativo</td>\n",
       "    </tr>\n",
       "    <tr>\n",
       "      <th>8</th>\n",
       "      <td>Aprendi gradientes</td>\n",
       "      <td>Positivo</td>\n",
       "    </tr>\n",
       "    <tr>\n",
       "      <th>9</th>\n",
       "      <td>Aprendi NLP</td>\n",
       "      <td>Positivo</td>\n",
       "    </tr>\n",
       "    <tr>\n",
       "      <th>10</th>\n",
       "      <td>Aprendi redes neuronales</td>\n",
       "      <td>Positivo</td>\n",
       "    </tr>\n",
       "    <tr>\n",
       "      <th>11</th>\n",
       "      <td>Falto aprender mas spark</td>\n",
       "      <td>Negativo</td>\n",
       "    </tr>\n",
       "    <tr>\n",
       "      <th>12</th>\n",
       "      <td>Las office hours son los sabados</td>\n",
       "      <td>Negativo</td>\n",
       "    </tr>\n",
       "    <tr>\n",
       "      <th>13</th>\n",
       "      <td>Aprendi python</td>\n",
       "      <td>Positivo</td>\n",
       "    </tr>\n",
       "    <tr>\n",
       "      <th>14</th>\n",
       "      <td>Aprendi que es PCA</td>\n",
       "      <td>Positivo</td>\n",
       "    </tr>\n",
       "    <tr>\n",
       "      <th>15</th>\n",
       "      <td>Aprendi que es un cluster</td>\n",
       "      <td>Positivo</td>\n",
       "    </tr>\n",
       "    <tr>\n",
       "      <th>16</th>\n",
       "      <td>Las tareas son muy practicas</td>\n",
       "      <td>Positivo</td>\n",
       "    </tr>\n",
       "    <tr>\n",
       "      <th>17</th>\n",
       "      <td>Aprendi q las derivadas son muy utiles</td>\n",
       "      <td>Positivo</td>\n",
       "    </tr>\n",
       "    <tr>\n",
       "      <th>18</th>\n",
       "      <td>Pandas es com un excel y me gusto</td>\n",
       "      <td>Positivo</td>\n",
       "    </tr>\n",
       "    <tr>\n",
       "      <th>19</th>\n",
       "      <td>Me confio de las grabaciones y me distraigo en...</td>\n",
       "      <td>Negativo</td>\n",
       "    </tr>\n",
       "  </tbody>\n",
       "</table>\n",
       "</div>"
      ],
      "text/plain": [
       "                                                Texto Sentimiento\n",
       "0                                 Aprendi regresiones    Positivo\n",
       "1                                         Mucha tarea    Negativo\n",
       "2                            Aprendi modelos de texto    Positivo\n",
       "3                                   Tareas muy largas    Negativo\n",
       "4                         Aprendi a utilizar imágenes    Positivo\n",
       "5            El profe se demora en entregar las notas    Negativo\n",
       "6               Me gusto competir por el mejor modelo    Positivo\n",
       "7                             Los examenes son largos    Negativo\n",
       "8                                  Aprendi gradientes    Positivo\n",
       "9                                         Aprendi NLP    Positivo\n",
       "10                           Aprendi redes neuronales    Positivo\n",
       "11                           Falto aprender mas spark    Negativo\n",
       "12                   Las office hours son los sabados    Negativo\n",
       "13                                     Aprendi python    Positivo\n",
       "14                                 Aprendi que es PCA    Positivo\n",
       "15                          Aprendi que es un cluster    Positivo\n",
       "16                       Las tareas son muy practicas    Positivo\n",
       "17             Aprendi q las derivadas son muy utiles    Positivo\n",
       "18                  Pandas es com un excel y me gusto    Positivo\n",
       "19  Me confio de las grabaciones y me distraigo en...    Negativo"
      ]
     },
     "execution_count": 3,
     "metadata": {},
     "output_type": "execute_result"
    }
   ],
   "source": [
    "datosFinal"
   ]
  },
  {
   "cell_type": "code",
   "execution_count": 4,
   "id": "59bad9e0-4a7c-47ed-bc7e-c45851795fec",
   "metadata": {},
   "outputs": [],
   "source": [
    "# Convertir todo el texto a minúsculas para que por ejemplo: Las y las cuenten por igual\n",
    "datosFinal['Texto'] = datosFinal['Texto'].str.lower()"
   ]
  },
  {
   "cell_type": "code",
   "execution_count": 5,
   "id": "93825342-6f89-4cab-a350-283cfae37f7f",
   "metadata": {},
   "outputs": [],
   "source": [
    "#Definimos stop_words\n",
    "stop_words = [\n",
    "    'de', 'la', 'que', 'el', 'en', 'y', 'a', 'los', 'del', 'se',\n",
    "    'las', 'por', 'un', 'para', 'con', 'no', 'una', 'su', 'al', 'es',\n",
    "    'lo', 'como', 'más', 'pero', 'sus', 'le', 'ya', 'o', 'fue', 'ha'\n",
    "]"
   ]
  },
  {
   "cell_type": "code",
   "execution_count": 6,
   "id": "cc2f6830-a5f7-4fc7-84f5-2dd9ff2c0395",
   "metadata": {},
   "outputs": [],
   "source": [
    "# Eliminar stopwords durante el conteo de palabras frecuentes\n",
    "palabras_frecuentes = (\n",
    "    datosFinal['Texto']\n",
    "    .apply(lambda x: [word for word in x.split() if word not in stop_words])\n",
    "    .explode()\n",
    "    .value_counts()\n",
    "    .head(10)\n",
    ")"
   ]
  },
  {
   "cell_type": "code",
   "execution_count": 7,
   "id": "b4a2d397-1b43-476b-a2df-f2852108959a",
   "metadata": {},
   "outputs": [
    {
     "data": {
      "image/png": "[encoded data removed]",
      "text/plain": [
       "<Figure size 1000x600 with 1 Axes>"
      ]
     },
     "metadata": {},
     "output_type": "display_data"
    }
   ],
   "source": [
    "# Crear un gráfico de barras\n",
    "fig, ax = plt.subplots(figsize=(10, 6))\n",
    "palabras_frecuentes.plot(kind='bar', ax=ax, color='green')\n",
    "ax.set_title('Las 10 palabras más frecuentes de los datos (sin stopwords)')\n",
    "ax.set_xlabel('Palabra')\n",
    "ax.set_ylabel('Frecuencia')\n",
    "\n",
    "# Para ver valores exactos de frecuencia\n",
    "for i, v in enumerate(palabras_frecuentes):\n",
    "    ax.text(i, v + 0.1, str(v), ha='center', va='bottom', fontsize=8)\n",
    "\n",
    "plt.show()"
   ]
  },
  {
   "cell_type": "markdown",
   "id": "7ff32fc2-5cbe-4bf7-ae16-bb322fb21e9d",
   "metadata": {},
   "source": [
    "## Calcular la correlación con el sentimiento. Si el sentimiento positivo es 1 y el negativo es 0"
   ]
  }
 ],
 "metadata": {
  "kernelspec": {
   "display_name": "Python 3 (ipykernel)",
   "language": "python",
   "name": "python3"
  },
  "language_info": {
   "codemirror_mode": {
    "name": "ipython",
    "version": 3
   },
   "file_extension": ".py",
   "mimetype": "text/x-python",
   "name": "python",
   "nbconvert_exporter": "python",
   "pygments_lexer": "ipython3",
   "version": "3.11.2"
  }
 },
 "nbformat": 4,
 "nbformat_minor": 5
}
