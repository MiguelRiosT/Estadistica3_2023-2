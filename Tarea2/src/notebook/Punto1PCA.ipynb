{
 "cells": [
  {
   "cell_type": "markdown",
   "id": "9026b612-ab2f-45a8-816e-a13791df1660",
   "metadata": {},
   "source": [
    "Punto1PCA"
   ]
  },
  {
   "cell_type": "code",
   "execution_count": null,
   "id": "5ff5ca15-50af-4393-92d3-7f794136bd6e",
   "metadata": {},
   "outputs": [],
   "source": []
  }
 ],
 "metadata": {
  "kernelspec": {
   "display_name": "",
   "name": ""
  },
  "language_info": {
   "name": ""
  }
 },
 "nbformat": 4,
 "nbformat_minor": 5
}
