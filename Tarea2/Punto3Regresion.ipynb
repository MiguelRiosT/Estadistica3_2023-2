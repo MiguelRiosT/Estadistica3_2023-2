{
 "cells": [
  {
   "cell_type": "markdown",
   "id": "7c4d1071-9b28-4515-9809-b5e4eab6459c",
   "metadata": {},
   "source": [
    "# Punto 3 - Regresion - Miguel Rios Tangarife"
   ]
  },
  {
   "cell_type": "markdown",
   "id": "1718dba3-1ba3-46fd-849a-b406647bfc92",
   "metadata": {},
   "source": [
    "Librerias que vamos a utilizar"
   ]
  },
  {
   "cell_type": "code",
   "execution_count": 1,
   "id": "77fe9273-f2dd-4ff6-a9a8-fb1b191133f7",
   "metadata": {},
   "outputs": [],
   "source": [
    "import glob\n",
    "from PIL import Image\n",
    "import random\n",
    "import matplotlib.image as img\n",
    "import numpy as np\n",
    "import os\n",
    "from sklearn.metrics import mean_squared_error\n",
    "import statsmodels.api as sm\n",
    "import pandas as pd\n",
    "import matplotlib.pyplot as plt\n",
    "import tarfile\n",
    "import zipfile\n",
    "from sklearn.cluster import KMeans\n",
    "from sklearn.preprocessing import StandardScaler\n",
    "from sklearn.decomposition import PCA\n",
    "from sklearn.model_selection import train_test_split\n",
    "from scipy.io import loadmat\n",
    "from urllib.request import urlretrieve\n",
    "from os.path import isfile, isdir\n",
    "import plotly.express as px\n",
    "from datetime import date\n",
    "pd.set_option('display.max_rows', 500)\n",
    "pd.set_option('display.max_columns', 500)\n",
    "%matplotlib inline"
   ]
  },
  {
   "cell_type": "markdown",
   "id": "bb36dc5b-fadf-4ea3-9743-90bcf21e8bf6",
   "metadata": {},
   "source": [
    "Leemos los datos"
   ]
  },
  {
   "cell_type": "code",
   "execution_count": 2,
   "id": "b1f4c4f1-19e6-4551-824d-d0acc2beedca",
   "metadata": {},
   "outputs": [],
   "source": [
    "df = pd.read_excel('data/Saber_icfes_XLSX.xlsx')"
   ]
  },
  {
   "cell_type": "markdown",
   "id": "a0ea5aff-cd8f-4aee-878d-5377e6338c69",
   "metadata": {},
   "source": [
    "Al usar \"df\" vemos que tenemos 68725 rows × 96 columns en un inicio"
   ]
  },
  {
   "cell_type": "code",
   "execution_count": 29,
   "id": "e0842a83-2e75-481c-b041-0d58827939f5",
   "metadata": {},
   "outputs": [],
   "source": [
    "#df"
   ]
  },
  {
   "cell_type": "markdown",
   "id": "ad783bf5-790e-42fe-86ce-7abebe50734a",
   "metadata": {},
   "source": [
    "## Sobre nulos..."
   ]
  },
  {
   "cell_type": "markdown",
   "id": "a98b29b8-5644-462e-b2ca-d7e40fbf6909",
   "metadata": {},
   "source": [
    "Antes de analizar y filtrar aquellos variables que son más relevantes para el modelo, considero importante tener control sobre los valores nulos"
   ]
  },
  {
   "cell_type": "markdown",
   "id": "bd69953d-e3d8-4c9b-a004-2231f57e9361",
   "metadata": {},
   "source": [
    "Primero abordemos las variables numericas"
   ]
  },
  {
   "cell_type": "code",
   "execution_count": 3,
   "id": "b8b993d4-ac84-4461-9201-2647c0bc7754",
   "metadata": {},
   "outputs": [],
   "source": [
    "df.fillna(df['PERIODO'].mean(), inplace=True)\n",
    "df.fillna(df['ESTU_COD_RESIDE_DEPTO'].mean(), inplace=True)\n",
    "df.fillna(df['ESTU_COD_RESIDE_MCPIO'].mean(), inplace=True)\n",
    "df.fillna(df['ESTU_COD_COLE_MCPIO_TERMINO'].mean(), inplace=True)\n",
    "df.fillna(df['ESTU_SNIES_PRGMACADEMICO'].mean(), inplace=True)\n",
    "df.fillna(df['ESTU_PRGM_CODMUNICIPIO'].mean(), inplace=True)\n",
    "df.fillna(df['ESTU_INST_CODMUNICIPIO'].mean(), inplace=True)\n",
    "df.fillna(df['ESTU_COD_MCPIO_PRESENTACION'].mean(), inplace=True)\n",
    "df.fillna(df['ESTU_COD_DEPTO_PRESENTACION'].mean(), inplace=True)\n",
    "df.fillna(df['MOD_RAZONA_CUANTITAT_PUNT'].mean(), inplace=True)\n",
    "df.fillna(df['MOD_RAZONA_CUANTITATIVO_PNAL'].mean(), inplace=True)\n",
    "df.fillna(df['MOD_RAZONA_CUANTITATIVO_PNBC'].mean(), inplace=True)\n",
    "df.fillna(df['MOD_LECTURA_CRITICA_PUNT'].mean(), inplace=True)\n",
    "df.fillna(df['MOD_LECTURA_CRITICA_PNAL'].mean(), inplace=True)\n",
    "df.fillna(df['MOD_LECTURA_CRITICA_PNBC'].mean(), inplace=True)\n",
    "df.fillna(df['MOD_COMPETEN_CIUDADA_PUNT'].mean(), inplace=True)\n",
    "df.fillna(df['MOD_COMPETEN_CIUDADA_PNAL'].mean(), inplace=True)\n",
    "df.fillna(df['MOD_INGLES_PUNT'].mean(), inplace=True)\n",
    "df.fillna(df['MOD_INGLES_PNAL'].mean(), inplace=True)\n",
    "df.fillna(df['MOD_INGLES_PNBC'].mean(), inplace=True)\n",
    "df.fillna(df['MOD_COMUNI_ESCRITA_PUNT'].mean(), inplace=True)\n",
    "df.fillna(df['MOD_COMUNI_ESCRITA_DESEM'].mean(), inplace=True)\n",
    "df.fillna(df['MOD_COMUNI_ESCRITA_PNAL'].mean(), inplace=True)\n",
    "df.fillna(df['MOD_COMUNI_ESCRITA_PNBC'].mean(), inplace=True)\n",
    "df.fillna(df['PUNT_GLOBAL'].mean(), inplace=True)\n",
    "df.fillna(df['PERCENTIL_GLOBAL'].mean(), inplace=True)\n",
    "df.fillna(df['PERCENTIL_NBC'].mean(), inplace=True)"
   ]
  },
  {
   "cell_type": "markdown",
   "id": "d233c859-5878-443a-bd15-c006da45fba9",
   "metadata": {},
   "source": [
    "Verifiquemos que si se hayan manejado adecuadamente los nulos"
   ]
  },
  {
   "cell_type": "code",
   "execution_count": 4,
   "id": "d599b7fa-ac6e-4a38-ab1b-ab6aad2e6e9a",
   "metadata": {},
   "outputs": [
    {
     "name": "stdout",
     "output_type": "stream",
     "text": [
      "No hay valores nulos en las variables numéricas.\n"
     ]
    }
   ],
   "source": [
    "numeric_variables = df.select_dtypes(include=['number'])\n",
    "hay_valores_nulos_numericas = numeric_variables.isnull().any().any()\n",
    "if hay_valores_nulos_numericas:\n",
    "    print(\"Hay valores nulos en las variables numéricas.\")\n",
    "else:\n",
    "    print(\"No hay valores nulos en las variables numéricas.\")"
   ]
  },
  {
   "cell_type": "markdown",
   "id": "ecaa6aaf-66bc-4ca4-9bed-bca3ec0068e4",
   "metadata": {},
   "source": [
    "## ¿Qué variables son importantes para predecir el valor?\r"
   ]
  },
  {
   "cell_type": "markdown",
   "id": "9dfa657a-2259-4c03-8010-a173bd661c80",
   "metadata": {},
   "source": [
    "Para esto analizaremos primero como se comporta la correlacion con variables numericas"
   ]
  },
  {
   "cell_type": "code",
   "execution_count": 6,
   "id": "8e2bf135-d85f-4b21-928c-cbd8187d7003",
   "metadata": {},
   "outputs": [
    {
     "name": "stdout",
     "output_type": "stream",
     "text": [
      "MOD_INGLES_PUNT                 1.000000\n",
      "MOD_INGLES_PNAL                 0.355438\n",
      "PERCENTIL_GLOBAL                0.354807\n",
      "MOD_COMPETEN_CIUDADA_PNAL       0.354486\n",
      "MOD_LECTURA_CRITICA_PNAL        0.354288\n",
      "MOD_INGLES_PNBC                 0.354236\n",
      "MOD_RAZONA_CUANTITATIVO_PNAL    0.354134\n",
      "PERCENTIL_NBC                   0.353608\n",
      "MOD_COMPETEN_CIUDADA_PNBC       0.353296\n",
      "MOD_LECTURA_CRITICA_PNBC        0.353089\n",
      "MOD_RAZONA_CUANTITATIVO_PNBC    0.352938\n",
      "MOD_COMUNI_ESCRITA_PNAL         0.134877\n",
      "MOD_COMUNI_ESCRITA_PNBC         0.134796\n",
      "PUNT_GLOBAL                     0.034244\n",
      "MOD_COMPETEN_CIUDADA_PUNT       0.033020\n",
      "MOD_LECTURA_CRITICA_PUNT        0.026229\n",
      "MOD_RAZONA_CUANTITAT_PUNT       0.016171\n",
      "MOD_COMUNI_ESCRITA_DESEM        0.010052\n",
      "ESTU_CODDANE_COLE_TERMINO       0.004917\n",
      "ESTU_COD_RESIDE_MCPIO           0.003260\n",
      "MOD_COMUNI_ESCRITA_PUNT         0.002416\n",
      "ESTU_INST_CODMUNICIPIO          0.000485\n",
      "INST_COD_INSTITUCION            0.000420\n",
      "ESTU_COD_RESIDE_DEPTO          -0.000175\n",
      "ESTU_SNIES_PRGMACADEMICO       -0.000520\n",
      "ESTU_COD_COLE_MCPIO_TERMINO    -0.001509\n",
      "ESTU_COD_DEPTO_PRESENTACION    -0.003585\n",
      "ESTU_COD_MCPIO_PRESENTACION    -0.003592\n",
      "ESTU_PRGM_CODMUNICIPIO         -0.004483\n",
      "PERIODO                              NaN\n",
      "Name: MOD_INGLES_PUNT, dtype: float64\n"
     ]
    }
   ],
   "source": [
    "numeric_columns = df.select_dtypes(include=['number'])\n",
    "\n",
    "# Calcular la correlación de Pearson entre las columnas numéricas y la variable objetivo\n",
    "correlation_matrix = numeric_columns.corr(method='pearson')  # Método de Pearson\n",
    "\n",
    "# Mostrar la correlación con la variable objetivo\n",
    "correlation_with_target = correlation_matrix['MOD_INGLES_PUNT'].sort_values(ascending=False)\n",
    "print(correlation_with_target)"
   ]
  },
  {
   "cell_type": "markdown",
   "id": "f06a2402-f886-487f-9cd4-00fae6a9d749",
   "metadata": {},
   "source": [
    "Observamos que las variables con un valor o tendencia a 0 son las que menor impacto tienen sobre la variable objetivo, por lo tanto pueden ser consideradas para eliminarse."
   ]
  },
  {
   "cell_type": "markdown",
   "id": "04caa8e0-dc94-41d3-853c-8a1f0428fa9f",
   "metadata": {},
   "source": [
    "Lista de variables con correlación débil(cercana a 0)\n",
    "\n",
    "- MOD_COMUNI_ESCRITA_PNAL: 0.134877\r\n",
    "- MOD_COMUNI_ESCRITA_PNBC: 0.13479  \r\n",
    "- PUNT_GLOBAL: 0.034244\r\n",
    "- MOD_COMPETEN_CIUDADA_PUNT: 0.033020\r\n",
    "- MOD_LECTURA_CRITICA_PUNT: 0.026229\r\n",
    "- MOD_RAZONA_CUANTITAT_PUNT: 0.016171\r\n",
    "- MOD_COMUNI_ESCRITA_DESEM: 0.010052\r\n",
    "- ESTU_CODDANE_COLE_TERMINO: 0.004917\r\n",
    "- ESTU_COD_RESIDE_MCPIO: 0.003260\r\n",
    "- MOD_COMUNI_ESCRITA_PUNT: 0.002416\r\n",
    "- ESTU_INST_CODMUNICIPIO: 0.000485\r\n",
    "- INST_COD_INSTITUCION: 0.000420\r\n",
    "- ESTU_COD_RESIDE_DEPTO: -0.000175\r\n",
    "- ESTU_SNIES_PRGMACADEMICO: -0.000520\r\n",
    "- ESTU_COD_COLE_MCPIO_TERMINO: -0.001509\r\n",
    "- ESTU_COD_DEPTO_PRESENTACION: -0.003585\r\n",
    "- ESTU_COD_MCPIO_PRESENTACION: -0.003592\r\n",
    "- ESTU_PRGM_CODMUNICIPIO: -0.004483ICIPIO: -0.004483"
   ]
  },
  {
   "cell_type": "markdown",
   "id": "94cdeb40-60dc-45d8-ae3f-23056bc8dc6a",
   "metadata": {},
   "source": [
    "Una vez analizadas las variables numericas, abordemos las variables categoricas"
   ]
  },
  {
   "cell_type": "code",
   "execution_count": 7,
   "id": "c0c5ea23-d952-471d-9ab4-01fa0ff23b83",
   "metadata": {},
   "outputs": [],
   "source": [
    "categorical_columns = df.select_dtypes(include=['object']).columns"
   ]
  },
  {
   "cell_type": "code",
   "execution_count": 8,
   "id": "1ce40618-7ce8-489d-a41d-75aaa484e50c",
   "metadata": {},
   "outputs": [
    {
     "data": {
      "text/plain": [
       "Index(['ESTU_TIPODOCUMENTO', 'ESTU_NACIONALIDAD', 'ESTU_GENERO',\n",
       "       'ESTU_FECHANACIMIENTO', 'ESTU_EXTERIOR', 'ESTU_CONSECUTIVO',\n",
       "       'ESTU_ESTUDIANTE', 'ESTU_PAIS_RESIDE', 'ESTU_DISC_FISICA',\n",
       "       'ESTU_DISC_SISTEM', 'ESTU_DISC_AUDITCASTELL', 'ESTU_DISC_AUDITLSC',\n",
       "       'ESTU_DISC_VISUALCEGUE', 'ESTU_DISC_VISUALBAJA', 'ESTU_DISC_VOZHABLA',\n",
       "       'ESTU_DISC_INTELEC', 'ESTU_DISC_ESPAUTISTA', 'ESTU_DISC_PSICOSOCIAL',\n",
       "       'ESTU_DISC_ASPERGER', 'ESTU_DEPTO_RESIDE', 'ESTU_MCPIO_RESIDE',\n",
       "       'ESTU_AREARESIDE', 'ESTU_ESTADOCIVIL', 'ESTU_COLE_TERMINO',\n",
       "       'ESTU_OTROCOLE_TERMINO', 'ESTU_TITULOOBTENIDOBACHILLER',\n",
       "       'ESTU_PAGOMATRICULABECA', 'ESTU_PAGOMATRICULACREDITO',\n",
       "       'ESTU_PAGOMATRICULAPADRES', 'ESTU_PAGOMATRICULAPROPIO',\n",
       "       'ESTU_COMOCAPACITOEXAMENSB11', 'ESTU_TIPODOCUMENTOSB11',\n",
       "       'ESTU_SEMESTRECURSA', 'FAMI_EDUCACIONPADRE', 'FAMI_EDUCACIONMADRE',\n",
       "       'FAMI_TRABAJOLABORPADRE', 'FAMI_TRABAJOLABORMADRE',\n",
       "       'FAMI_ESTRATOVIVIENDA', 'FAMI_TIENEINTERNET', 'FAMI_TIENESERVICIOTV',\n",
       "       'FAMI_TIENECOMPUTADOR', 'FAMI_TIENELAVADORA',\n",
       "       'FAMI_TIENEHORNOMICROOGAS', 'FAMI_TIENEAUTOMOVIL',\n",
       "       'FAMI_TIENEMOTOCICLETA', 'FAMI_TIENECONSOLAVIDEOJUEGOS',\n",
       "       'FAMI_CUANTOSCOMPARTEBAÑO', 'ESTU_VALORMATRICULAUNIVERSIDAD',\n",
       "       'ESTU_HORASSEMANATRABAJA', 'INST_NOMBRE_INSTITUCION',\n",
       "       'ESTU_PRGM_ACADEMICO', 'GRUPOREFERENCIA', 'ESTU_PRGM_MUNICIPIO',\n",
       "       'ESTU_PRGM_DEPARTAMENTO', 'ESTU_NIVEL_PRGM_ACADEMICO',\n",
       "       'ESTU_METODO_PRGM', 'ESTU_NUCLEO_PREGRADO', 'ESTU_INST_MUNICIPIO',\n",
       "       'ESTU_INST_DEPARTAMENTO', 'INST_CARACTER_ACADEMICO', 'INST_ORIGEN',\n",
       "       'ESTU_PRIVADO_LIBERTAD', 'ESTU_MCPIO_PRESENTACION',\n",
       "       'ESTU_DEPTO_PRESENTACION', 'MOD_INGLES_DESEM',\n",
       "       'ESTU_ESTADOINVESTIGACION'],\n",
       "      dtype='object')"
      ]
     },
     "execution_count": 8,
     "metadata": {},
     "output_type": "execute_result"
    }
   ],
   "source": [
    "categorical_columns"
   ]
  },
  {
   "cell_type": "markdown",
   "id": "32569c4f-7d74-4652-845f-69992a5884a6",
   "metadata": {},
   "source": [
    "Mirando los datos en excel podemos determinar que aquellas variables categóricas que tienen el mismo valor en todas sus filas o en la gran mayoria y no aportan información variada podemos descartarlas."
   ]
  },
  {
   "cell_type": "markdown",
   "id": "49802875-d715-4ff0-adef-0298bd2c9335",
   "metadata": {},
   "source": [
    "Lista de variables categoricas que tienen el mismo valor en todas sus filas:\n",
    "- ESTU_EXTERIOR\n",
    "- PERIODO\n",
    "- ESTU_ESTUDIANTE\n",
    "- ESTU_PRIVADO_LIBERTAD"
   ]
  },
  {
   "cell_type": "code",
   "execution_count": 44,
   "id": "e51807ff-0a7a-46b3-aa6b-d8454ce5980a",
   "metadata": {},
   "outputs": [
    {
     "name": "stdout",
     "output_type": "stream",
     "text": [
      "\n",
      "Correlación con la variable objetivo:\n",
      "MOD_INGLES_PUNT           1.000000\n",
      "ESTU_TIPODOCUMENTO_TI     0.042881\n",
      "ESTU_TIPODOCUMENTO_CE     0.018965\n",
      "ESTU_TIPODOCUMENTO_PE     0.016943\n",
      "ESTU_TIPODOCUMENTO_CR     0.004937\n",
      "ESTU_TIPODOCUMENTO_PEP    0.000504\n",
      "Name: MOD_INGLES_PUNT, dtype: float64\n"
     ]
    }
   ],
   "source": [
    "variables_categoricas = [\n",
    "    'ESTU_TIPODOCUMENTO'\n",
    "]\n",
    "variables_categoricas.append('MOD_INGLES_PUNT')\n",
    "df_dummies = pd.get_dummies(df[variables_categoricas], columns=variables_categoricas[:-1], drop_first=True)\n",
    "correlation_matrix = df_dummies.corr(method='pearson')  # Método de Pearson\n",
    "correlation_with_target = correlation_matrix['MOD_INGLES_PUNT'].sort_values(ascending=False)\n",
    "print(\"\\nCorrelación con la variable objetivo:\")\n",
    "print(correlation_with_target)"
   ]
  },
  {
   "cell_type": "code",
   "execution_count": 43,
   "id": "115f795c-f731-4ad3-9fcc-357146d690f7",
   "metadata": {},
   "outputs": [
    {
     "data": {
      "image/png": "[encoded data removed]",
      "text/plain": [
       "<Figure size 800x600 with 1 Axes>"
      ]
     },
     "metadata": {},
     "output_type": "display_data"
    }
   ],
   "source": [
    "import pandas as pd\n",
    "import seaborn as sns\n",
    "import matplotlib.pyplot as plt\n",
    "variables_categoricas = ['ESTU_TIPODOCUMENTO']\n",
    "variables_de_interes = ['MOD_INGLES_PUNT']\n",
    "df_subset = df[variables_categoricas + variables_de_interes]\n",
    "\n",
    "# Crea un boxplot\n",
    "plt.figure(figsize=(8, 6))\n",
    "sns.boxplot(x='ESTU_TIPODOCUMENTO', y='MOD_INGLES_PUNT', data=df_subset)\n",
    "plt.xlabel('ESTU_TIPODOCUMENTO')\n",
    "plt.ylabel('MOD_INGLES_PUNT')\n",
    "plt.title('Boxplot de MOD_INGLES_PUNT por ESTU_TIPODOCUMENTO')\n",
    "plt.show()"
   ]
  },
  {
   "cell_type": "markdown",
   "id": "3c21bfa4-90ad-4b03-af0c-db93d1259571",
   "metadata": {},
   "source": [
    "En el caso de la variable categorica 'ESTU_TIPODOCUMENTO', observamos que por su correlacion no tiene gran impacto sobre la variable objetivo, además en el boxplot podemos ver una relacion simular entre todos los tipos de documentos menos por PE(Permiso Especial de Permanencia) del cual solo hay 4 registros en todos los datos de esa columna, es por eso que no afecta a la variable objetivo esta variable categorica."
   ]
  },
  {
   "cell_type": "markdown",
   "id": "e5f74ba1-25ae-4457-8fc8-b549badefe69",
   "metadata": {},
   "source": [
    "De aqui en adelante usaré la correlación o el boxplot para analizar las dummie variables y el analisis manual de cada variable para decidir"
   ]
  },
  {
   "cell_type": "code",
   "execution_count": 45,
   "id": "393caa0e-e194-4398-ab0f-cbbc6bd8c94f",
   "metadata": {},
   "outputs": [
    {
     "name": "stdout",
     "output_type": "stream",
     "text": [
      "\n",
      "Correlación con la variable objetivo:\n",
      "MOD_INGLES_PUNT                           1.000000\n",
      "ESTU_NACIONALIDAD_VENEZUELA               0.020217\n",
      "ESTU_NACIONALIDAD_EL SALVADOR             0.017489\n",
      "ESTU_NACIONALIDAD_MÉXICO                  0.006580\n",
      "ESTU_NACIONALIDAD_REPÚBLICA DOMINICANA    0.005037\n",
      "ESTU_NACIONALIDAD_ECUADOR                 0.004555\n",
      "ESTU_NACIONALIDAD_PANAMÁ                  0.004529\n",
      "ESTU_NACIONALIDAD_PERÚ                    0.004458\n",
      "ESTU_NACIONALIDAD_ESTADOS UNIDOS          0.004073\n",
      "ESTU_NACIONALIDAD_ANTIGUA Y BARBUDA       0.003016\n",
      "ESTU_NACIONALIDAD_CHILE                   0.002743\n",
      "ESTU_NACIONALIDAD_HAITI                   0.001179\n",
      "ESTU_NACIONALIDAD_BOLIVIA                -0.000074\n",
      "ESTU_NACIONALIDAD_ESPAÑA                 -0.001810\n",
      "ESTU_NACIONALIDAD_CANADÁ                 -0.002985\n",
      "ESTU_NACIONALIDAD_NICARAGUA              -0.005668\n",
      "ESTU_NACIONALIDAD_COLOMBIA               -0.024314\n",
      "Name: MOD_INGLES_PUNT, dtype: float64\n"
     ]
    }
   ],
   "source": [
    "variables_categoricas = [\n",
    "    'ESTU_NACIONALIDAD'\n",
    "]\n",
    "variables_categoricas.append('MOD_INGLES_PUNT')\n",
    "df_dummies = pd.get_dummies(df[variables_categoricas], columns=variables_categoricas[:-1], drop_first=True)\n",
    "correlation_matrix = df_dummies.corr(method='pearson')  # Método de Pearson\n",
    "correlation_with_target = correlation_matrix['MOD_INGLES_PUNT'].sort_values(ascending=False)\n",
    "print(\"\\nCorrelación con la variable objetivo:\")\n",
    "print(correlation_with_target)"
   ]
  },
  {
   "cell_type": "markdown",
   "id": "17ae7c36-ab74-4332-96d9-9f4fc7c9ef22",
   "metadata": {},
   "source": [
    "Por valores de correlación se descarta, hay mayoria de colombianos y venezolanos"
   ]
  },
  {
   "cell_type": "code",
   "execution_count": 49,
   "id": "a0bfb1fc-1e34-470e-a8e5-bdf90182bfb6",
   "metadata": {},
   "outputs": [
    {
     "data": {
      "image/png": "[encoded data removed]",
      "text/plain": [
       "<Figure size 800x600 with 1 Axes>"
      ]
     },
     "metadata": {},
     "output_type": "display_data"
    }
   ],
   "source": [
    "variables_categoricas = ['ESTU_GENERO']\n",
    "variables_de_interes = ['MOD_INGLES_PUNT']\n",
    "df_subset = df[variables_categoricas + variables_de_interes]\n",
    "# Crea un boxplot\n",
    "plt.figure(figsize=(8, 6))\n",
    "sns.boxplot(x='ESTU_GENERO', y='MOD_INGLES_PUNT', data=df_subset)\n",
    "plt.xlabel('ESTU_GENERO')\n",
    "plt.ylabel('MOD_INGLES_PUNT')\n",
    "plt.title('Boxplot de MOD_INGLES_PUNT por ESTU_GENERO')\n",
    "plt.show()"
   ]
  },
  {
   "cell_type": "markdown",
   "id": "adfeb12b-79ee-471f-80af-e6baba61c596",
   "metadata": {},
   "source": [
    "Con respecto a ESTU_GENERO, podemos decir que es una variable importante para el modelo al ser bien distribuida"
   ]
  },
  {
   "cell_type": "code",
   "execution_count": null,
   "id": "7c2f792a-e2a2-4942-8e4a-1c382b6d3c8d",
   "metadata": {},
   "outputs": [],
   "source": []
  },
  {
   "cell_type": "markdown",
   "id": "23c974fc-84f1-4fd3-804c-b3ea4817df57",
   "metadata": {},
   "source": [
    "Lista de variables categoricas que no se consideraron relevantes para el modelo:\n",
    "\n",
    "- ESTU_TIPODOCUMENTO\n",
    "- ESTU_NACIONALIDAD\n",
    "- "
   ]
  },
  {
   "cell_type": "code",
   "execution_count": null,
   "id": "46384743-b2c0-4cf1-94d6-75985b244da7",
   "metadata": {},
   "outputs": [],
   "source": []
  },
  {
   "cell_type": "markdown",
   "id": "65770f00-3caa-4631-ad79-09450a18708d",
   "metadata": {},
   "source": [
    "Una vez realizada la exploracion de datos, continuamos con train y test"
   ]
  },
  {
   "cell_type": "code",
   "execution_count": 9,
   "id": "27760284-7296-40cd-a579-7cf4ebdb4576",
   "metadata": {},
   "outputs": [],
   "source": [
    "from sklearn.model_selection import train_test_split\n",
    "# Dividir los datos en un conjunto de entrenamiento (80%) y un conjunto de prueba (20%)\n",
    "X_train, X_test, y_train, y_test = train_test_split(df.drop('MOD_INGLES_PUNT', axis=1), df['MOD_INGLES_PUNT'], test_size=0.2, random_state=42)"
   ]
  },
  {
   "cell_type": "code",
   "execution_count": 11,
   "id": "24f384a7-e108-4f8f-9754-c9ea0b6b11a5",
   "metadata": {},
   "outputs": [],
   "source": [
    "from datetime import datetime\n",
    "\n",
    "# Calcular la edad\n",
    "now = datetime.now()\n",
    "X_train['edad'] = now.year - pd.to_datetime(X_train['ESTU_FECHANACIMIENTO']).dt.year\n",
    "X_test['edad'] = now.year - pd.to_datetime(X_test['ESTU_FECHANACIMIENTO']).dt.year\n",
    "\n",
    "# Eliminar la columna 'fecha_nacimiento' si ya no la necesitas\n",
    "X_train.drop('ESTU_FECHANACIMIENTO', axis=1, inplace=True)\n",
    "X_test.drop('ESTU_FECHANACIMIENTO', axis=1, inplace=True)"
   ]
  },
  {
   "cell_type": "code",
   "execution_count": 13,
   "id": "87b41b36-37f2-4c9c-ab5d-ed1c724aa7b4",
   "metadata": {},
   "outputs": [],
   "source": [
    "X_train = pd.get_dummies(X_train, columns=['ESTU_GENERO'])\n",
    "X_test = pd.get_dummies(X_test, columns=['ESTU_GENERO'])"
   ]
  },
  {
   "cell_type": "code",
   "execution_count": null,
   "id": "1cfa4c00-ae9c-4e9f-b4c7-a9825f9cfabd",
   "metadata": {},
   "outputs": [],
   "source": []
  }
 ],
 "metadata": {
  "kernelspec": {
   "display_name": "Python 3 (ipykernel)",
   "language": "python",
   "name": "python3"
  },
  "language_info": {
   "codemirror_mode": {
    "name": "ipython",
    "version": 3
   },
   "file_extension": ".py",
   "mimetype": "text/x-python",
   "name": "python",
   "nbconvert_exporter": "python",
   "pygments_lexer": "ipython3",
   "version": "3.11.2"
  }
 },
 "nbformat": 4,
 "nbformat_minor": 5
}
