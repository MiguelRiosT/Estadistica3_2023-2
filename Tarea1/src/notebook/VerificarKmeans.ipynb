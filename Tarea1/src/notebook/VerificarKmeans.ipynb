{
 "cells": [
  {
   "cell_type": "markdown",
   "id": "2a9d42ad-ce55-4789-b530-793797402e9f",
   "metadata": {},
   "source": [
    "# Verificando kmeans punto 1.6\n"
   ]
  },
  {
   "cell_type": "code",
   "execution_count": 2,
   "id": "c81a1309-1921-4873-ba7e-2534629ccba0",
   "metadata": {},
   "outputs": [],
   "source": [
    "import numpy as np\n",
    "import os\n",
    "import pandas as pd\n",
    "from scipy import stats\n",
    "from sklearn.cluster import KMeans\n",
    "from sklearn.preprocessing import StandardScaler\n",
    "from sklearn.decomposition import PCA\n",
    "import matplotlib.pyplot as plt\n",
    "import tarfile\n",
    "import zipfile\n",
    "from sklearn.cluster import AgglomerativeClustering\n",
    "from scipy.io import loadmat\n",
    "from urllib.request import urlretrieve\n",
    "from os.path import isfile, isdir\n",
    "from IPython.display import Image \n",
    "import plotly.figure_factory as ff\n",
    "import plotly.express as px\n",
    "\n",
    "pd.set_option('display.max_rows', 500)\n",
    "pd.set_option('display.max_columns', 500)\n",
    "%matplotlib inline\n"
   ]
  },
  {
   "cell_type": "markdown",
   "id": "04279c5f-5a2f-4f91-a3fa-7def33dd78f2",
   "metadata": {},
   "source": [
    "Leeremos el dataset \n"
   ]
  },
  {
   "cell_type": "code",
   "execution_count": 3,
   "id": "6b4a738d-71fd-4659-831e-b0c47fc0b48f",
   "metadata": {},
   "outputs": [],
   "source": [
    "df = pd.read_csv(\"data/VERIFICACIONKMEANS.csv\")"
   ]
  },
  {
   "cell_type": "code",
   "execution_count": 4,
   "id": "2603f827-fe41-4fd7-9def-33c6b8096aeb",
   "metadata": {},
   "outputs": [
    {
     "data": {
      "text/html": [
       "<div>\n",
       "<style scoped>\n",
       "    .dataframe tbody tr th:only-of-type {\n",
       "        vertical-align: middle;\n",
       "    }\n",
       "\n",
       "    .dataframe tbody tr th {\n",
       "        vertical-align: top;\n",
       "    }\n",
       "\n",
       "    .dataframe thead th {\n",
       "        text-align: right;\n",
       "    }\n",
       "</style>\n",
       "<table border=\"1\" class=\"dataframe\">\n",
       "  <thead>\n",
       "    <tr style=\"text-align: right;\">\n",
       "      <th></th>\n",
       "      <th>X1</th>\n",
       "      <th>X2</th>\n",
       "      <th>X3</th>\n",
       "    </tr>\n",
       "  </thead>\n",
       "  <tbody>\n",
       "    <tr>\n",
       "      <th>count</th>\n",
       "      <td>21.000000</td>\n",
       "      <td>21.000000</td>\n",
       "      <td>21.000000</td>\n",
       "    </tr>\n",
       "    <tr>\n",
       "      <th>mean</th>\n",
       "      <td>2.333333</td>\n",
       "      <td>4.428571</td>\n",
       "      <td>31.380952</td>\n",
       "    </tr>\n",
       "    <tr>\n",
       "      <th>std</th>\n",
       "      <td>1.527525</td>\n",
       "      <td>2.618615</td>\n",
       "      <td>18.180969</td>\n",
       "    </tr>\n",
       "    <tr>\n",
       "      <th>min</th>\n",
       "      <td>0.000000</td>\n",
       "      <td>0.000000</td>\n",
       "      <td>1.000000</td>\n",
       "    </tr>\n",
       "    <tr>\n",
       "      <th>25%</th>\n",
       "      <td>1.000000</td>\n",
       "      <td>3.000000</td>\n",
       "      <td>18.000000</td>\n",
       "    </tr>\n",
       "    <tr>\n",
       "      <th>50%</th>\n",
       "      <td>2.000000</td>\n",
       "      <td>4.000000</td>\n",
       "      <td>28.000000</td>\n",
       "    </tr>\n",
       "    <tr>\n",
       "      <th>75%</th>\n",
       "      <td>3.000000</td>\n",
       "      <td>6.000000</td>\n",
       "      <td>44.000000</td>\n",
       "    </tr>\n",
       "    <tr>\n",
       "      <th>max</th>\n",
       "      <td>5.000000</td>\n",
       "      <td>9.000000</td>\n",
       "      <td>64.000000</td>\n",
       "    </tr>\n",
       "  </tbody>\n",
       "</table>\n",
       "</div>"
      ],
      "text/plain": [
       "              X1         X2         X3\n",
       "count  21.000000  21.000000  21.000000\n",
       "mean    2.333333   4.428571  31.380952\n",
       "std     1.527525   2.618615  18.180969\n",
       "min     0.000000   0.000000   1.000000\n",
       "25%     1.000000   3.000000  18.000000\n",
       "50%     2.000000   4.000000  28.000000\n",
       "75%     3.000000   6.000000  44.000000\n",
       "max     5.000000   9.000000  64.000000"
      ]
     },
     "execution_count": 4,
     "metadata": {},
     "output_type": "execute_result"
    }
   ],
   "source": [
    "df.describe()"
   ]
  },
  {
   "cell_type": "markdown",
   "id": "3259508b-1aa4-447c-ae9a-8d2e1a3927c9",
   "metadata": {},
   "source": [
    "Aplicaremos el kmeans una vez leidos los datos"
   ]
  },
  {
   "cell_type": "code",
   "execution_count": 8,
   "id": "ed444eb7-5342-4a60-8da0-c0cbc4aee363",
   "metadata": {},
   "outputs": [
    {
     "name": "stdout",
     "output_type": "stream",
     "text": [
      "Initialization complete\n",
      "Iteration 0, inertia 1376.0.\n",
      "Iteration 1, inertia 1038.575.\n",
      "Converged at iteration 1: strict convergence.\n",
      "Initialization complete\n",
      "Iteration 0, inertia 9949.0.\n",
      "Iteration 1, inertia 2102.531428571428.\n",
      "Iteration 2, inertia 1165.2703703703703.\n",
      "Iteration 3, inertia 989.1022727272727.\n",
      "Converged at iteration 3: strict convergence.\n",
      "Initialization complete\n",
      "Iteration 0, inertia 2675.0.\n",
      "Iteration 1, inertia 989.1022727272727.\n",
      "Converged at iteration 1: strict convergence.\n",
      "Initialization complete\n",
      "Iteration 0, inertia 1775.0.\n",
      "Iteration 1, inertia 1110.35.\n",
      "Converged at iteration 1: strict convergence.\n",
      "Initialization complete\n",
      "Iteration 0, inertia 7236.0.\n",
      "Iteration 1, inertia 1048.201388888889.\n",
      "Iteration 2, inertia 861.4571428571429.\n",
      "Converged at iteration 2: strict convergence.\n",
      "Initialization complete\n",
      "Iteration 0, inertia 2251.0.\n",
      "Iteration 1, inertia 1102.4172222222223.\n",
      "Iteration 2, inertia 1038.575.\n",
      "Converged at iteration 2: strict convergence.\n",
      "Initialization complete\n",
      "Iteration 0, inertia 1797.0.\n",
      "Iteration 1, inertia 1181.3076923076922.\n",
      "Iteration 2, inertia 995.8746301775147.\n",
      "Iteration 3, inertia 932.2111111111111.\n",
      "Iteration 4, inertia 891.6512855831036.\n",
      "Iteration 5, inertia 861.4571428571429.\n",
      "Converged at iteration 5: strict convergence.\n",
      "Initialization complete\n",
      "Iteration 0, inertia 1719.0.\n",
      "Iteration 1, inertia 1173.1259040105194.\n",
      "Iteration 2, inertia 989.1022727272727.\n",
      "Converged at iteration 2: strict convergence.\n",
      "Initialization complete\n",
      "Iteration 0, inertia 4094.0.\n",
      "Iteration 1, inertia 1432.298181818182.\n",
      "Iteration 2, inertia 989.1022727272727.\n",
      "Converged at iteration 2: strict convergence.\n",
      "Initialization complete\n",
      "Iteration 0, inertia 971.0.\n",
      "Iteration 1, inertia 891.6512855831036.\n",
      "Iteration 2, inertia 861.4571428571429.\n",
      "Converged at iteration 2: strict convergence.\n"
     ]
    },
    {
     "name": "stderr",
     "output_type": "stream",
     "text": [
      "C:\\Users\\Miguel Rios\\AppData\\Local\\Programs\\Python\\Python311\\Lib\\site-packages\\sklearn\\cluster\\_kmeans.py:1412: FutureWarning: The default value of `n_init` will change from 10 to 'auto' in 1.4. Set the value of `n_init` explicitly to suppress the warning\n",
      "  super()._check_params_vs_input(X, default_n_init=10)\n"
     ]
    }
   ],
   "source": [
    "kmeans = KMeans(n_clusters=3,init='random', random_state=0,verbose=100).fit(df)"
   ]
  },
  {
   "cell_type": "code",
   "execution_count": 9,
   "id": "318f0139-72f3-4bb5-ab03-6cb39bf457e2",
   "metadata": {},
   "outputs": [
    {
     "data": {
      "text/plain": [
       "array([[ 1.        ,  2.2       , 16.        ],\n",
       "       [ 4.5       ,  8.5       , 59.5       ],\n",
       "       [ 3.        ,  5.28571429, 37.28571429]])"
      ]
     },
     "execution_count": 9,
     "metadata": {},
     "output_type": "execute_result"
    }
   ],
   "source": [
    "kmeans.cluster_centers_"
   ]
  },
  {
   "cell_type": "code",
   "execution_count": 10,
   "id": "09f394d0-4441-45f4-b042-101645af08b1",
   "metadata": {},
   "outputs": [
    {
     "data": {
      "text/plain": [
       "array([2, 0, 2, 2, 0, 2, 2, 0, 0, 0, 1, 0, 0, 0, 2, 1, 1, 2, 1, 0, 0])"
      ]
     },
     "execution_count": 10,
     "metadata": {},
     "output_type": "execute_result"
    }
   ],
   "source": [
    "kmeans.labels_"
   ]
  },
  {
   "cell_type": "code",
   "execution_count": 11,
   "id": "cb020188-5209-4662-816c-a41abbd05784",
   "metadata": {},
   "outputs": [
    {
     "name": "stdout",
     "output_type": "stream",
     "text": [
      "Initialization complete\n",
      "Iteration 0, inertia 986.0.\n",
      "Iteration 1, inertia 708.4083333333334.\n",
      "Converged at iteration 1: strict convergence.\n",
      "Initialization complete\n",
      "Iteration 0, inertia 2418.0.\n",
      "Iteration 1, inertia 743.6567145376669.\n",
      "Iteration 2, inertia 708.4083333333334.\n",
      "Converged at iteration 2: strict convergence.\n",
      "Initialization complete\n",
      "Iteration 0, inertia 1775.0.\n",
      "Iteration 1, inertia 863.953125.\n",
      "Iteration 2, inertia 708.4083333333334.\n",
      "Converged at iteration 2: strict convergence.\n",
      "Initialization complete\n",
      "Iteration 0, inertia 1307.0.\n",
      "Iteration 1, inertia 524.2922222222222.\n",
      "Iteration 2, inertia 460.45.\n",
      "Converged at iteration 2: strict convergence.\n",
      "Initialization complete\n",
      "Iteration 0, inertia 1407.0.\n",
      "Iteration 1, inertia 542.2272727272726.\n",
      "Iteration 2, inertia 410.97727272727275.\n",
      "Converged at iteration 2: strict convergence.\n",
      "Initialization complete\n",
      "Iteration 0, inertia 1189.0.\n",
      "Iteration 1, inertia 522.72.\n",
      "Iteration 2, inertia 460.45.\n",
      "Converged at iteration 2: strict convergence.\n",
      "Initialization complete\n",
      "Iteration 0, inertia 899.0.\n",
      "Iteration 1, inertia 557.3211111111111.\n",
      "Iteration 2, inertia 392.4000000000001.\n",
      "Converged at iteration 2: strict convergence.\n",
      "Initialization complete\n",
      "Iteration 0, inertia 871.0.\n",
      "Iteration 1, inertia 701.8242630385487.\n",
      "Iteration 2, inertia 590.8505555555556.\n",
      "Iteration 3, inertia 426.3702168367347.\n",
      "Iteration 4, inertia 402.0.\n",
      "Converged at iteration 4: strict convergence.\n",
      "Initialization complete\n",
      "Iteration 0, inertia 1597.0.\n",
      "Iteration 1, inertia 856.035.\n",
      "Iteration 2, inertia 708.4083333333334.\n",
      "Converged at iteration 2: strict convergence.\n",
      "Initialization complete\n",
      "Iteration 0, inertia 510.0.\n",
      "Iteration 1, inertia 410.97727272727275.\n",
      "Converged at iteration 1: strict convergence.\n"
     ]
    },
    {
     "name": "stderr",
     "output_type": "stream",
     "text": [
      "C:\\Users\\Miguel Rios\\AppData\\Local\\Programs\\Python\\Python311\\Lib\\site-packages\\sklearn\\cluster\\_kmeans.py:1412: FutureWarning: The default value of `n_init` will change from 10 to 'auto' in 1.4. Set the value of `n_init` explicitly to suppress the warning\n",
      "  super()._check_params_vs_input(X, default_n_init=10)\n"
     ]
    }
   ],
   "source": [
    "kmeans_4 = KMeans(n_clusters=4,init='random', random_state=0,verbose=100).fit(df)"
   ]
  },
  {
   "cell_type": "code",
   "execution_count": 12,
   "id": "f40fd40e-0b22-4ff5-a30b-478513a4c4dc",
   "metadata": {},
   "outputs": [
    {
     "data": {
      "text/plain": [
       "array([[ 1.        ,  2.2       , 16.        ],\n",
       "       [ 4.5       ,  8.5       , 59.5       ],\n",
       "       [ 3.        ,  5.28571429, 37.28571429]])"
      ]
     },
     "execution_count": 12,
     "metadata": {},
     "output_type": "execute_result"
    }
   ],
   "source": [
    "kmeans.cluster_centers_"
   ]
  },
  {
   "cell_type": "code",
   "execution_count": 13,
   "id": "5b6e6937-0baa-4761-b21c-e12483f1c0aa",
   "metadata": {},
   "outputs": [
    {
     "data": {
      "text/plain": [
       "array([2, 0, 2, 2, 0, 2, 2, 0, 0, 0, 1, 0, 0, 0, 2, 1, 1, 2, 1, 0, 0])"
      ]
     },
     "execution_count": 13,
     "metadata": {},
     "output_type": "execute_result"
    }
   ],
   "source": [
    "kmeans.labels_"
   ]
  }
 ],
 "metadata": {
  "kernelspec": {
   "display_name": "Python 3 (ipykernel)",
   "language": "python",
   "name": "python3"
  },
  "language_info": {
   "codemirror_mode": {
    "name": "ipython",
    "version": 3
   },
   "file_extension": ".py",
   "mimetype": "text/x-python",
   "name": "python",
   "nbconvert_exporter": "python",
   "pygments_lexer": "ipython3",
   "version": "3.11.2"
  }
 },
 "nbformat": 4,
 "nbformat_minor": 5
}
