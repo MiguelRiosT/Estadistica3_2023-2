{
 "cells": [
  {
   "cell_type": "code",
   "execution_count": 32,
   "id": "52f5279c-0f18-41c4-86c6-9aaf159d597c",
   "metadata": {},
   "outputs": [],
   "source": [
    "#imports\n",
    "import glob\n",
    "import seaborn as sns\n",
    "import pandas as pd\n",
    "import matplotlib.image as img\n",
    "from PIL import Image\n",
    "import matplotlib.pyplot as plt\n",
    "import numpy as np\n",
    "from keras.utils import to_categorical\n",
    "#import cv2\n",
    "from sklearn import preprocessing\n",
    "from sklearn.model_selection import train_test_split\n",
    "import keras\n",
    "from keras.models import Sequential\n",
    "from sklearn.metrics import accuracy_score\n",
    "from keras.layers import Dense, Activation, Dropout, Flatten, Conv2D, MaxPooling2D\n",
    "from keras.utils import to_categorical\n",
    "from tensorflow.keras.layers import BatchNormalization\n",
    "from sklearn.metrics import confusion_matrix\n",
    "import numpy as np\n",
    "from  sklearn.linear_model import LogisticRegression\n",
    "import tensorflow as tf\n",
    "import matplotlib.pyplot as plt\n",
    "import matplotlib.pyplot as plt\n",
    "import numpy as np\n",
    "import PIL\n",
    "import tensorflow as tf\n",
    "from tensorflow import keras\n",
    "from tensorflow.keras import layers\n",
    "from tensorflow.keras.models import Sequential\n",
    "import pathlib\n",
    "import csv\n",
    "import os\n",
    "\n",
    "from sklearn.preprocessing import LabelEncoder"
   ]
  },
  {
   "cell_type": "code",
   "execution_count": 45,
   "id": "3fbe5a78-8a2d-4706-a405-519443db470a",
   "metadata": {},
   "outputs": [
    {
     "data": {
      "text/plain": [
       "Series([], Name: count, dtype: int64)"
      ]
     },
     "execution_count": 45,
     "metadata": {},
     "output_type": "execute_result"
    }
   ],
   "source": [
    "folder_path = \"C:/Users/TuUsuario/data/train/\"\n",
    "#folder_path = \"data/train/\"\n",
    "from pathlib import Path\n",
    "desire_size = (50, 50)\n",
    "n_channels = 3\n",
    "batch_size = 128\n",
    "\n",
    "\n",
    "labels = list(map(lambda x: x.split(\"\")[1], glob.glob(\"data/train//.png\")))\n",
    "IDS = list(map(lambda x: x.split(\"\")[2] , glob.glob(\"data/train//.png\")))\n",
    "\n",
    "#labels = list(map(lambda x: x.split(\"/\")[1], glob.glob(folder_path + \"*.png\")))\n",
    "#IDS = list(map(lambda x: x.split(\"/\")[2], glob.glob(folder_path + \"*.png\")))\n",
    "\n",
    "le = preprocessing.LabelEncoder()\n",
    "le.fit(list(set(labels)))\n",
    "numout = len(le.classes_)\n",
    "pd.Series(labels).value_counts()"
   ]
  },
  {
   "cell_type": "code",
   "execution_count": 48,
   "id": "61878f64-36e7-4312-a2d6-19dc5b92a24f",
   "metadata": {},
   "outputs": [
    {
     "name": "stdout",
     "output_type": "stream",
     "text": [
      "Series([], Name: count, dtype: int64)\n"
     ]
    }
   ],
   "source": [
    "import glob\n",
    "import pandas as pd\n",
    "from sklearn import preprocessing\n",
    "\n",
    "# Especifica la ruta de la carpeta\n",
    "folder_path = \"data/train\"\n",
    "# folder_path = \"C:/Users/TuUsuario/data/train/\"  # Puedes cambiar a una ruta absoluta si es necesario\n",
    "\n",
    "# Usamos glob.glob con un patrón que incluye la extensión .png\n",
    "png_files = glob.glob(folder_path + \"*.png\")\n",
    "\n",
    "# Extraemos las etiquetas y los IDS correctamente\n",
    "labels = [file.split(\"/\")[2] for file in png_files]\n",
    "IDS = [file.split(\"/\")[3] for file in png_files]\n",
    "\n",
    "le = preprocessing.LabelEncoder()\n",
    "le.fit(list(set(labels)))\n",
    "numout = len(le.classes_)\n",
    "\n",
    "# Verifica las etiquetas\n",
    "print(pd.Series(labels).value_counts())"
   ]
  },
  {
   "cell_type": "code",
   "execution_count": 47,
   "id": "c19ae3b4-4b84-438a-8f1e-51c9b5d3ef2f",
   "metadata": {},
   "outputs": [
    {
     "name": "stdout",
     "output_type": "stream",
     "text": [
      "Ruta de la carpeta: data/train/\n"
     ]
    }
   ],
   "source": [
    "print(\"Ruta de la carpeta:\", folder_path)"
   ]
  },
  {
   "cell_type": "code",
   "execution_count": null,
   "id": "cb9d108b-49f7-4de2-8f53-b1973ea1271b",
   "metadata": {},
   "outputs": [],
   "source": []
  }
 ],
 "metadata": {
  "kernelspec": {
   "display_name": "Python 3 (ipykernel)",
   "language": "python",
   "name": "python3"
  },
  "language_info": {
   "codemirror_mode": {
    "name": "ipython",
    "version": 3
   },
   "file_extension": ".py",
   "mimetype": "text/x-python",
   "name": "python",
   "nbconvert_exporter": "python",
   "pygments_lexer": "ipython3",
   "version": "3.11.2"
  }
 },
 "nbformat": 4,
 "nbformat_minor": 5
}
